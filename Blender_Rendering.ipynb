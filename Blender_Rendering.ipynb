{
  "nbformat": 4,
  "nbformat_minor": 0,
  "metadata": {
    "colab": {
      "name": "Blender-Rendering.ipynb",
      "provenance": [],
      "collapsed_sections": [],
      "include_colab_link": true
    },
    "kernelspec": {
      "name": "python3",
      "display_name": "Python 3"
    },
    "language_info": {
      "name": "python"
    },
    "accelerator": "GPU"
  },
  "cells": [
    {
      "cell_type": "markdown",
      "metadata": {
        "id": "view-in-github",
        "colab_type": "text"
      },
      "source": [
        "<a href=\"https://colab.research.google.com/github/AstroNaut244/blender-colab/blob/master/Blender_Rendering.ipynb\" target=\"_parent\"><img src=\"https://colab.research.google.com/assets/colab-badge.svg\" alt=\"Open In Colab\"/></a>"
      ]
    },
    {
      "cell_type": "markdown",
      "metadata": {
        "id": "KwwEaz9DvY13"
      },
      "source": [
        "# Setup\n",
        "**Make sure to read the instructions carefully!**\n",
        "\n",
        "If you have other resources used in the Blender project and chose to *make all paths relative*, pack all of them into a zip archive. Alternatively, you can *pack all external file*.\n",
        "\n",
        "* `blender_version` : Version of blender used to render the scene. Only supports 2.8x\n",
        "* `blend_file_path` : Path to the blend file after unpacking the zip archive. If blend file is used, this is automatically ignored.\n",
        "___\n",
        "* `upload_type` : Select the type of upload method. `gdrive_relative` pulls everything from the folder specified.\n",
        "* `drive_path` : Path to your blend/zip file relative to the root of your Google Drive if `google_drive` is selected. Must  state the file and its extension (.zip/.blend) **unless** `gdrive_relative` is selected.\n",
        "* `url_blend` : Specify the URL to the blend/zip file if `url` is selected.\n",
        "___\n",
        "* `animation` : Specify whether animation or still image is rendered. If **still image** is used, put the frame number in `start_frame`.\n",
        "* `start_frame, end_frame` : Specify the start and end frame for animation. You may put same value such as zero for both input to set the default frame in the blend file.\n",
        "___\n",
        "* `download_type` : Select the type of download method. `gdrive_direct` enables the frames to be outputted directly to Google Drive (zipping will be disabled).\n",
        "* `output_name` : Name of the output frames, **do NOT include .blend!** (## for frame number)\n",
        "* `zip_files` : Archive multiple animation frames automatically into a zip file.\n",
        "* `drive_output_path` : Path to your frames/zip file in Google Drive.\n",
        "___\n",
        "* `gpu_enabled, cpu_enabled` : Toggle GPU and CPU for rendering. CPU might give a slight boost in rendering time but may varies depend on the project.\n",
        "\n",
        "After you are done, go to Runtime > Run All (Ctrl + F9) and upload your files or have Google Drive authorised below. See the [GitHub repo](https://github.com/syn73/blender-colab) for more info."
      ]
    },
    {
      "cell_type": "code",
      "metadata": {
        "colab": {
          "base_uri": "https://localhost:8080/"
        },
        "cellView": "form",
        "id": "vWvycEu-1_2V",
        "outputId": "8913a3de-9376-46df-914f-e74bda19909b"
      },
      "source": [
        "#@markdown #**Check GPU type**\n",
        "#@markdown ### Factory reset runtime if you don't have the desired GPU.\n",
        "\n",
        "#@markdown ---\n",
        "\n",
        "\n",
        "\n",
        "\n",
        "#@markdown V100 = Very Very fast rendering (*Available only for Colab Pro users*)\n",
        "\n",
        "#@markdown P100 = Faster rendering\n",
        "\n",
        "#@markdown T4 = Fast rendering\n",
        "\n",
        "#@markdown K80 = 2x Slower rendering compared to T4\n",
        "\n",
        "#@markdown P4 = Very slow, not recommended\n",
        "\n",
        "#@markdown ---\n",
        "\n",
        "!nvidia-smi -L"
      ],
      "execution_count": 1,
      "outputs": [
        {
          "output_type": "stream",
          "name": "stdout",
          "text": [
            "GPU 0: Tesla K80 (UUID: GPU-8229c008-2505-3c39-21dd-1370fd2c4b26)\n"
          ]
        }
      ]
    },
    {
      "cell_type": "code",
      "metadata": {
        "id": "BjrYxIGPveKH",
        "cellView": "form"
      },
      "source": [
        "#@title Now choose your rendering options. You dont really need to change the file path; just choose your upload and download type, run the cell, then go to the next cell to upload your file. If you choose direct upload, you can directly upload your file in the next cell. If your project is an animation, dont forget to enable \"animation\", if not it will render only a single frame\n",
        "blender_version = '3.0.0-alpha-cycles-x' #@param ['1.79', '2.79', '2.79a', '2.79b', '2.80rc3', '2.81a', '2.82a', '2.83.16', '2.90.0', '2.90.1', '2.91.0', '2.91.2', '2.92.0', '2.93.0', '2.93.1', '2.93.1', '2.93.2', '2.93.3', '2.93.4', '2.79b', '2.80rc3', '2.81a', '2.82a', '2.83.16', '2.90.1', '2.91.2', '2.92.0', '2.93.1', '2.93.3', '3.0.0-alpha', '3.0.0-alpha-cycles-x'] {allow-input: false}\n",
        "blend_file_path = 'path/to/file.blend' #@param {type: 'string'}\n",
        "#@markdown ---\n",
        "upload_type = 'direct' #@param ['direct', 'google_drive', 'url', 'gdrive_relative'] {allow-input: false}\n",
        "drive_path = 'path/to/blend.zip' #@param {type: 'string'}\n",
        "url_blend = '' #@param {type: 'string'}\n",
        "#@markdown ---\n",
        "animation = False #@param {type: 'boolean'}\n",
        "start_frame =  1#@param {type: 'integer'}\n",
        "end_frame =  250#@param {type: 'integer'}\n",
        "#@markdown ---\n",
        "download_type = 'direct' #@param ['direct', 'google_drive', 'gdrive_direct'] {allow-input: false}\n",
        "output_name = 'blender-##' #@param {type: 'string'}\n",
        "zip_files = True #@param {type: 'boolean'}\n",
        "drive_output_path = 'blender/output' #@param {type: 'string'}\n",
        "#@markdown ---\n",
        "gpu_enabled = True #@param {type:\"boolean\"}\n",
        "cpu_enabled = False #@param {type:\"boolean\"}"
      ],
      "execution_count": 2,
      "outputs": []
    },
    {
      "cell_type": "code",
      "metadata": {
        "colab": {
          "resources": {
            "http://localhost:8080/nbextensions/google.colab/files.js": {
              "data": "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",
              "ok": true,
              "headers": [
                [
                  "content-type",
                  "application/javascript"
                ]
              ],
              "status": 200,
              "status_text": ""
            }
          },
          "base_uri": "https://localhost:8080/",
          "height": 73
        },
        "cellView": "form",
        "id": "Co6SiJSzzeIl",
        "outputId": "62b8dc28-7f6e-4196-c858-6582b613aac8"
      },
      "source": [
        "#@title Run this cell to upload your file with the selected method\n",
        "import os\n",
        "import shutil\n",
        "from google.colab import files, drive\n",
        "uploaded_filename = \"\"\n",
        "\n",
        "if upload_type == 'google_drive' or upload_type == 'gdrive_relative' or download_type == 'google_drive' or download_type == 'gdrive_direct':\n",
        "    drive.mount('/drive')\n",
        "\n",
        "if upload_type == 'direct':\n",
        "    uploaded = files.upload()\n",
        "    for fn in uploaded.keys():\n",
        "        uploaded_filename = fn\n",
        "elif upload_type == 'url':\n",
        "    !wget -nc $url_blend\n",
        "    uploaded_filename = os.path.basename(url_blend)\n",
        "elif upload_type == 'google_drive':\n",
        "    shutil.copy('/drive/My Drive/' + drive_path, '.')\n",
        "    uploaded_filename = os.path.basename(drive_path)\n",
        "\n",
        "    !rm -r render\n",
        "!mkdir render\n",
        "\n",
        "if upload_type == 'gdrive_relative':\n",
        "    if not drive_path.endswith('/'):\n",
        "        drive_path += '/'\n",
        "    !cp -r '/drive/My Drive/{drive_path}.' 'render/'\n",
        "elif uploaded_filename.lower().endswith('.zip'):\n",
        "    !unzip -o $uploaded_filename -d 'render/'\n",
        "elif uploaded_filename.lower().endswith('.blend'):\n",
        "    shutil.copy(uploaded_filename, 'render/')\n",
        "    blend_file_path = uploaded_filename\n",
        "else:\n",
        "    raise SystemExit(\"Invalid file extension, only .blend and .zip can be uploaded.\")"
      ],
      "execution_count": 3,
      "outputs": [
        {
          "output_type": "display_data",
          "data": {
            "text/html": [
              "\n",
              "     <input type=\"file\" id=\"files-eb300d14-c496-4e43-84f4-e79c094d0b08\" name=\"files[]\" multiple disabled\n",
              "        style=\"border:none\" />\n",
              "     <output id=\"result-eb300d14-c496-4e43-84f4-e79c094d0b08\">\n",
              "      Upload widget is only available when the cell has been executed in the\n",
              "      current browser session. Please rerun this cell to enable.\n",
              "      </output>\n",
              "      <script src=\"/nbextensions/google.colab/files.js\"></script> "
            ],
            "text/plain": [
              "<IPython.core.display.HTML object>"
            ]
          },
          "metadata": {}
        },
        {
          "output_type": "stream",
          "name": "stdout",
          "text": [
            "Saving ay.blend to ay.blend\n"
          ]
        }
      ]
    },
    {
      "cell_type": "code",
      "metadata": {
        "colab": {
          "base_uri": "https://localhost:8080/"
        },
        "id": "cItF6amj0zdr",
        "cellView": "form",
        "outputId": "b1c97848-83e3-4da7-c1dc-375b19d6021e"
      },
      "source": [
        "#@title Download blender\n",
        "\n",
        "blender_url_dict = {'1.79'    : \"https://download.blender.org/release/Blender1.73/blender1.73_Linux_i386_libc5-static.tar.gz\"\n",
        "                    '2.79'    : \"https://download.blender.org/release/Blender2.79/blender-2.79-linux-glibc219-x86_64.tar.bz2\"\n",
        "                    '2.79a'   : \"https://download.blender.org/release/Blender2.79/blender-2.79a-linux-glibc219-x86_64.tar.bz2\"\n",
        "                    '2.79b'   : \"https://download.blender.org/release/Blender2.79/blender-2.79b-linux-glibc219-x86_64.tar.bz2\",\n",
        "                    '2.80rc3' : \"https://download.blender.org/release/Blender2.80/blender-2.80rc3-linux-glibc224-i686.tar.bz2\",\n",
        "                    '2.81a'   : \"https://download.blender.org/release/Blender2.81/blender-2.81a-linux-glibc217-x86_64.tar.bz2\",\n",
        "                    '2.82a'   : \"https://download.blender.org/release/Blender2.82/blender-2.82a-linux64.tar.xz\",\n",
        "                    '2.83.16' : \"https://download.blender.org/release/Blender2.83/blender-2.83.16-linux-x64.tar.xz\",\n",
        "                    '2.90.0'  : \"https://download.blender.org/release/Blender2.90/blender-2.90.0-linux64.tar.xz\"\n",
        "                    '2.90.1'  : \"https://download.blender.org/release/Blender2.90/blender-2.90.1-linux64.tar.xz\",\n",
        "                    '2.91.0'  : \"https://download.blender.org/release/Blender2.91/blender-2.91.0-linux64.tar.xz\"\n",
        "                    '2.91.2'  : \"https://download.blender.org/release/Blender2.91/blender-2.91.2-linux64.tar.xz\",\n",
        "                    '2.92.0'  : \"https://download.blender.org/release/Blender2.92/blender-2.92.0-linux64.tar.xz\",\n",
        "                    '2.93.0'  : \"https://download.blender.org/release/Blender2.93/blender-2.93.0-linux-x64.tar.xz\",\n",
        "                    '2.93.1'  : \"https://download.blender.org/release/Blender2.93/blender-2.93.1-linux-x64.tar.xz\",\n",
        "                    '2.93.2'  : \"https://download.blender.org/release/Blender2.93/blender-2.93.2-linux-x64.tar.xz\",\n",
        "                    '2.93.3'  : \"https://download.blender.org/release/Blender2.93/blender-2.93.3-linux-x64.tar.xz\",\n",
        "                    '2.93.4'  : \"https://download.blender.org/release/Blender2.93/blender-2.93.4-linux-x64.tar.xz\",\n",
        "                    '3.0.0-alpha'  : \"https://builder.blender.org/download/daily/blender-3.0.0-alpha+master.a3027fb09416-linux.x86_64-release.tar.xz\",\n",
        "                    '3.0.0-alpha-cycles-x'  : \"https://builder.blender.org/download/experimental/blender-3.0.0-alpha+cycles-x.342cdb03ee06-linux.x86_64-release.tar.xz\"}\n",
        "\n",
        "blender_url = blender_url_dict[blender_version]\n",
        "base_url = os.path.basename(blender_url)\n",
        "\n",
        "!mkdir $blender_version\n",
        "!wget -nc $blender_url\n",
        "!tar -xkf $base_url -C ./$blender_version --strip-components=1"
      ],
      "execution_count": 7,
      "outputs": [
        {
          "output_type": "stream",
          "name": "stdout",
          "text": [
            "mkdir: cannot create directory ‘3.0.0-alpha-cycles-x’: File exists\n",
            "--2021-09-25 10:58:13--  https://builder.blender.org/download/experimental/blender-3.0.0-alpha+cycles-x.342cdb03ee06-linux.x86_64-release.tar.xz\n",
            "Resolving builder.blender.org (builder.blender.org)... 82.94.213.213\n",
            "Connecting to builder.blender.org (builder.blender.org)|82.94.213.213|:443... connected.\n",
            "HTTP request sent, awaiting response... 200 OK\n",
            "Length: 180879976 (172M) [application/x-xz]\n",
            "Saving to: ‘blender-3.0.0-alpha+cycles-x.342cdb03ee06-linux.x86_64-release.tar.xz’\n",
            "\n",
            "blender-3.0.0-alpha 100%[===================>] 172.50M  11.0MB/s    in 15s     \n",
            "\n",
            "2021-09-25 10:58:28 (11.3 MB/s) - ‘blender-3.0.0-alpha+cycles-x.342cdb03ee06-linux.x86_64-release.tar.xz’ saved [180879976/180879976]\n",
            "\n"
          ]
        }
      ]
    },
    {
      "cell_type": "code",
      "metadata": {
        "cellView": "form",
        "id": "ejD27FIf1Ej8"
      },
      "source": [
        "#@title Enable GPU rendering (or add custom properties by double clicking here)\n",
        "data = \"import re\\n\"+\\\n",
        "    \"import bpy\\n\"+\\\n",
        "    \"scene = bpy.context.scene\\n\"+\\\n",
        "    \"scene.cycles.device = 'GPU'\\n\"+\\\n",
        "    \"prefs = bpy.context.preferences\\n\"+\\\n",
        "    \"prefs.addons['cycles'].preferences.get_devices()\\n\"+\\\n",
        "    \"cprefs = prefs.addons['cycles'].preferences\\n\"+\\\n",
        "    \"print(cprefs)\\n\"+\\\n",
        "    \"for compute_device_type in ('CUDA', 'OPENCL', 'NONE'):\\n\"+\\\n",
        "    \"    try:\\n\"+\\\n",
        "    \"        cprefs.compute_device_type = compute_device_type\\n\"+\\\n",
        "    \"        print('Device found:',compute_device_type)\\n\"+\\\n",
        "    \"        break\\n\"+\\\n",
        "    \"    except TypeError:\\n\"+\\\n",
        "    \"        pass\\n\"+\\\n",
        "    \"for device in cprefs.devices:\\n\"+\\\n",
        "    \"    if not re.match('intel', device.name, re.I):\\n\"+\\\n",
        "    \"        print('Activating',device)\\n\"+\\\n",
        "    \"        device.use = \"+str(gpu_enabled)+\"\\n\"+\\\n",
        "    \"    else:\\n\"+\\\n",
        "    \"        device.use = \"+str(cpu_enabled)+\"\\n\"\n",
        "with open('setgpu.py', 'w') as f:\n",
        "    f.write(data)"
      ],
      "execution_count": 8,
      "outputs": []
    },
    {
      "cell_type": "code",
      "metadata": {
        "colab": {
          "base_uri": "https://localhost:8080/"
        },
        "cellView": "form",
        "id": "rI5m_37C1R6P",
        "outputId": "00353a30-62df-45a7-ad41-947acd833a47"
      },
      "source": [
        "#@title Start rendering!\n",
        "!rm -r output\n",
        "!mkdir output\n",
        "\n",
        "if not drive_output_path.endswith('/'):\n",
        "    drive_output_path += '/'\n",
        "\n",
        "if download_type != 'gdrive_direct':\n",
        "    output_path = 'output/' + output_name\n",
        "else:\n",
        "    output_path = '/drive/My Drive/' + drive_output_path + output_name\n",
        "\n",
        "if animation:\n",
        "    if start_frame == end_frame:\n",
        "        !sudo ./$blender_version/blender -b 'render/{blend_file_path}' -P setgpu.py -E CYCLES -o '{output_path}' -noaudio -a\n",
        "    else:\n",
        "        !sudo ./$blender_version/blender -b 'render/{blend_file_path}' -P setgpu.py -E CYCLES -o '{output_path}' -noaudio -s $start_frame -e $end_frame -a\n",
        "else:\n",
        "    !sudo ./$blender_version/blender -b 'render/{blend_file_path}' -P setgpu.py -E CYCLES -o '{output_path}' -noaudio -f $start_frame"
      ],
      "execution_count": null,
      "outputs": [
        {
          "output_type": "stream",
          "name": "stdout",
          "text": [
            "Blender 3.0.0 Alpha (hash 342cdb03ee06 built 2021-09-25 02:50:10)\n",
            "Read blend: /content/render/ay.blend\n",
            "Traceback (most recent call last):\n",
            "  File \"/content/setgpu.py\", line 6, in <module>\n",
            "    prefs.addons['cycles'].preferences.get_devices()\n",
            "  File \"/content/3.0.0-alpha-cycles-x/3.0/scripts/addons/cycles/properties.py\", line 1348, in get_devices\n",
            "    self.refresh_devices()\n",
            "  File \"/content/3.0.0-alpha-cycles-x/3.0/scripts/addons/cycles/properties.py\", line 1344, in refresh_devices\n",
            "    self.update_device_entries(_cycles.available_devices(device_type))\n",
            "ValueError: Device \"OPENCL\" not known.\n",
            "Fra:1 Mem:30.23M (Peak 51.39M) | Time:00:00.06 | Mem:0.00M, Peak:0.00M | Scene, View Layer | Synchronizing object | Plane.001\n",
            "Fra:1 Mem:30.23M (Peak 51.39M) | Time:00:00.06 | Mem:0.00M, Peak:0.00M | Scene, View Layer | Synchronizing object | Curve\n",
            "Fra:1 Mem:30.24M (Peak 51.39M) | Time:00:00.06 | Mem:0.00M, Peak:0.00M | Scene, View Layer | Synchronizing object | Plane\n",
            "Fra:1 Mem:30.24M (Peak 51.39M) | Time:00:00.06 | Mem:0.00M, Peak:0.00M | Scene, View Layer | Synchronizing object | Curve\n",
            "Fra:1 Mem:30.27M (Peak 51.39M) | Time:00:00.06 | Mem:0.00M, Peak:0.00M | Scene, View Layer | Synchronizing object | Curve.009\n",
            "Fra:1 Mem:33.72M (Peak 51.39M) | Time:00:00.07 | Mem:0.00M, Peak:0.00M | Scene, View Layer | Synchronizing object | Curve.001\n",
            "Fra:1 Mem:32.00M (Peak 51.39M) | Time:00:00.07 | Mem:0.00M, Peak:0.00M | Scene, View Layer | Synchronizing object | Curve.002\n",
            "Fra:1 Mem:32.01M (Peak 51.39M) | Time:00:00.07 | Mem:0.00M, Peak:0.00M | Scene, View Layer | Synchronizing object | Curve.001\n",
            "Fra:1 Mem:32.08M (Peak 51.39M) | Time:00:00.07 | Mem:0.00M, Peak:0.00M | Scene, View Layer | Synchronizing object | Curve.003\n",
            "Fra:1 Mem:32.12M (Peak 51.39M) | Time:00:00.07 | Mem:0.00M, Peak:0.00M | Scene, View Layer | Synchronizing object | Curve.002\n",
            "Fra:1 Mem:32.30M (Peak 51.39M) | Time:00:00.07 | Mem:0.00M, Peak:0.00M | Scene, View Layer | Synchronizing object | Curve.003\n",
            "Fra:1 Mem:32.78M (Peak 51.39M) | Time:00:00.07 | Mem:0.00M, Peak:0.00M | Scene, View Layer | Synchronizing object | Curve.004\n",
            "Fra:1 Mem:33.75M (Peak 51.39M) | Time:00:00.07 | Mem:0.00M, Peak:0.00M | Scene, View Layer | Synchronizing object | Curve.005\n",
            "Fra:1 Mem:33.77M (Peak 51.39M) | Time:00:00.07 | Mem:0.00M, Peak:0.00M | Scene, View Layer | Synchronizing object | Curve.006\n",
            "Fra:1 Mem:33.22M (Peak 51.39M) | Time:00:00.07 | Mem:0.00M, Peak:0.00M | Scene, View Layer | Synchronizing object | Curve.007\n",
            "Fra:1 Mem:33.19M (Peak 51.39M) | Time:00:00.07 | Mem:0.00M, Peak:0.00M | Scene, View Layer | Synchronizing object | Curve.005\n",
            "Fra:1 Mem:33.33M (Peak 51.39M) | Time:00:00.07 | Mem:0.00M, Peak:0.00M | Scene, View Layer | Synchronizing object | Curve.006\n",
            "Fra:1 Mem:33.34M (Peak 51.39M) | Time:00:00.07 | Mem:0.00M, Peak:0.00M | Scene, View Layer | Synchronizing object | Curve.007\n",
            "Fra:1 Mem:33.78M (Peak 51.39M) | Time:00:00.07 | Mem:0.00M, Peak:0.00M | Scene, View Layer | Synchronizing object | Curve.008\n",
            "Fra:1 Mem:35.75M (Peak 51.39M) | Time:00:00.08 | Mem:0.00M, Peak:0.00M | Scene, View Layer | Synchronizing object | Curve.010\n",
            "Fra:1 Mem:41.05M (Peak 51.39M) | Time:00:00.09 | Mem:0.00M, Peak:0.00M | Scene, View Layer | Synchronizing object | Curve.011\n",
            "Fra:1 Mem:38.86M (Peak 51.39M) | Time:00:00.09 | Mem:0.00M, Peak:0.00M | Scene, View Layer | Initializing\n",
            "Fra:1 Mem:26.46M (Peak 51.39M) | Time:00:00.09 | Mem:0.00M, Peak:0.00M | Scene, View Layer | Waiting for render to start\n",
            "Fra:1 Mem:26.47M (Peak 51.39M) | Time:00:00.10 | Mem:0.00M, Peak:0.00M | Scene, View Layer | Loading render kernels (may take a few minutes the first time)\n",
            "Fra:1 Mem:26.47M (Peak 51.39M) | Time:00:00.10 | Mem:0.00M, Peak:0.00M | Scene, View Layer | Updating Scene\n",
            "Fra:1 Mem:26.47M (Peak 51.39M) | Time:00:00.10 | Mem:0.00M, Peak:0.00M | Scene, View Layer | Updating Shaders\n",
            "Fra:1 Mem:26.97M (Peak 51.39M) | Time:00:00.22 | Mem:0.00M, Peak:0.00M | Scene, View Layer | Updating Procedurals\n",
            "Fra:1 Mem:26.97M (Peak 51.39M) | Time:00:00.22 | Mem:0.00M, Peak:0.00M | Scene, View Layer | Updating Background\n",
            "Fra:1 Mem:26.97M (Peak 51.39M) | Time:00:00.22 | Mem:0.00M, Peak:0.00M | Scene, View Layer | Updating Camera\n",
            "Fra:1 Mem:26.97M (Peak 51.39M) | Time:00:00.22 | Mem:0.00M, Peak:0.00M | Scene, View Layer | Updating Meshes Flags\n",
            "Fra:1 Mem:26.97M (Peak 51.39M) | Time:00:00.22 | Mem:0.00M, Peak:0.00M | Scene, View Layer | Updating Objects\n",
            "Fra:1 Mem:26.97M (Peak 51.39M) | Time:00:00.22 | Mem:0.00M, Peak:0.00M | Scene, View Layer | Updating Objects | Copying Transformations to device\n",
            "Fra:1 Mem:26.98M (Peak 51.39M) | Time:00:00.22 | Mem:0.01M, Peak:0.01M | Scene, View Layer | Updating Objects | Applying Static Transformations\n",
            "Fra:1 Mem:26.98M (Peak 51.39M) | Time:00:00.22 | Mem:0.01M, Peak:0.01M | Scene, View Layer | Updating Particle Systems\n",
            "Fra:1 Mem:26.98M (Peak 51.39M) | Time:00:00.22 | Mem:0.01M, Peak:0.01M | Scene, View Layer | Updating Particle Systems | Copying Particles to device\n",
            "Fra:1 Mem:26.98M (Peak 51.39M) | Time:00:00.22 | Mem:0.01M, Peak:0.01M | Scene, View Layer | Updating Meshes\n",
            "Fra:1 Mem:30.10M (Peak 51.39M) | Time:00:00.23 | Mem:0.01M, Peak:0.01M | Scene, View Layer | Updating Mesh | Computing attributes\n",
            "Fra:1 Mem:30.10M (Peak 51.39M) | Time:00:00.23 | Mem:0.01M, Peak:0.01M | Scene, View Layer | Updating Mesh | Copying Attributes to device\n",
            "Fra:1 Mem:30.10M (Peak 51.39M) | Time:00:00.23 | Mem:0.01M, Peak:0.01M | Scene, View Layer | Updating Scene BVH | Building\n",
            "Fra:1 Mem:30.10M (Peak 51.39M) | Time:00:00.23 | Mem:0.01M, Peak:0.01M | Scene, View Layer | Updating Scene BVH | Building BVH\n",
            "Fra:1 Mem:30.10M (Peak 51.39M) | Time:00:00.23 | Mem:11.76M, Peak:11.76M | Scene, View Layer | Updating Scene BVH | Building BVH 0%\n",
            "Fra:1 Mem:30.10M (Peak 51.39M) | Time:00:00.30 | Mem:9.69M, Peak:17.69M | Scene, View Layer | Updating Scene BVH | Packing BVH primitives\n",
            "Fra:1 Mem:43.37M (Peak 51.39M) | Time:00:00.31 | Mem:9.69M, Peak:17.69M | Scene, View Layer | Updating Scene BVH | Copying BVH to device\n",
            "Fra:1 Mem:44.16M (Peak 51.39M) | Time:00:00.31 | Mem:22.97M, Peak:22.97M | Scene, View Layer | Updating Mesh | Computing normals\n",
            "Fra:1 Mem:51.65M (Peak 51.65M) | Time:00:00.31 | Mem:22.97M, Peak:22.97M | Scene, View Layer | Updating Mesh | Copying Mesh to device\n",
            "Fra:1 Mem:50.87M (Peak 51.65M) | Time:00:00.31 | Mem:30.46M, Peak:30.46M | Scene, View Layer | Updating Objects Flags\n",
            "Fra:1 Mem:50.87M (Peak 51.65M) | Time:00:00.31 | Mem:30.46M, Peak:30.46M | Scene, View Layer | Updating Images\n",
            "Fra:1 Mem:50.87M (Peak 51.65M) | Time:00:00.31 | Mem:30.46M, Peak:30.46M | Scene, View Layer | Updating Camera Volume\n",
            "Fra:1 Mem:50.87M (Peak 51.65M) | Time:00:00.31 | Mem:30.46M, Peak:30.46M | Scene, View Layer | Updating Lookup Tables\n",
            "Fra:1 Mem:50.87M (Peak 51.65M) | Time:00:00.31 | Mem:30.71M, Peak:30.71M | Scene, View Layer | Updating Lights\n",
            "Fra:1 Mem:50.87M (Peak 51.65M) | Time:00:00.31 | Mem:30.71M, Peak:30.71M | Scene, View Layer | Updating Lights | Computing distribution\n",
            "Fra:1 Mem:50.87M (Peak 51.65M) | Time:00:00.31 | Mem:30.71M, Peak:30.71M | Scene, View Layer | Updating Integrator\n",
            "Fra:1 Mem:50.88M (Peak 51.65M) | Time:00:00.31 | Mem:30.72M, Peak:30.72M | Scene, View Layer | Updating Film\n",
            "Fra:1 Mem:50.88M (Peak 51.65M) | Time:00:00.31 | Mem:30.47M, Peak:30.72M | Scene, View Layer | Updating Lookup Tables\n",
            "Fra:1 Mem:50.88M (Peak 51.65M) | Time:00:00.31 | Mem:30.72M, Peak:30.72M | Scene, View Layer | Updating Baking\n",
            "Fra:1 Mem:50.88M (Peak 51.65M) | Time:00:00.31 | Mem:30.72M, Peak:30.72M | Scene, View Layer | Updating Device | Writing constant memory\n",
            "Fra:1 Mem:50.88M (Peak 51.65M) | Time:00:00.31 | Mem:30.72M, Peak:30.72M | Scene, View Layer | Rendered 0/2 Tiles, Sample 0/128\n",
            "Fra:1 Mem:671.05M (Peak 671.05M) | Time:00:23.80 | Remaining:01:10:04.62 | Mem:650.88M, Peak:650.88M | Scene, View Layer | Rendered 0/2 Tiles, Sample 1/128\n"
          ]
        }
      ]
    },
    {
      "cell_type": "code",
      "metadata": {
        "cellView": "form",
        "id": "aREsUUDK2qvy"
      },
      "source": [
        "#@title Download the result with the selected method\n",
        "path, dirs, files_folder = next(os.walk(\"output\"))\n",
        "output_folder_name = output_name.replace('#', '') + 'render'\n",
        "\n",
        "if download_type == 'gdrive_direct':\n",
        "    pass\n",
        "elif len(files_folder) == 1:\n",
        "    render_img = 'output/' + files_folder[0]\n",
        "    if download_type == 'direct':\n",
        "        files.download('output/' + files_folder[0])\n",
        "    else:\n",
        "        shutil.copy('/content/' + render_img, '/drive/My Drive/' + drive_output_path)\n",
        "elif len(files_folder) > 1:\n",
        "    if zip_files:\n",
        "        shutil.make_archive(output_folder_name, 'zip', 'output')\n",
        "    if download_type == 'direct':\n",
        "        files.download(output_folder_name + '.zip')\n",
        "    else:\n",
        "        shutil.copy('/content/' + output_folder_name + \".zip\", '/drive/My Drive/' + drive_output_path)\n",
        "elif download_type == 'direct':\n",
        "    for f in files_folder:\n",
        "        files.download('output/{}'.format(f))\n",
        "    # Drive, no zip\n",
        "    else:\n",
        "        for f in files_folder:\n",
        "          shutil.copy(\"/content/output/\" + f, '/drive/My Drive/' + drive_output_path + f)\n",
        "else:\n",
        "    raise SystemExit(\"No frames are rendered.\")"
      ],
      "execution_count": null,
      "outputs": []
    }
  ]
}